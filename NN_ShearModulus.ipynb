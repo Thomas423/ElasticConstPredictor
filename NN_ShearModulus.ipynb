{
 "cells": [
  {
   "cell_type": "code",
   "execution_count": null,
   "id": "0c3f362a-96cc-4dcb-add9-a27db5bfbf67",
   "metadata": {},
   "outputs": [],
   "source": [
    "import os\n",
    "\n",
    "\n",
    "import random\n",
    "\n",
    "import pandas as pd\n",
    "import tensorflow as tf\n",
    "import numpy as np\n",
    "df = pd.read_json(\"mp.json\")\n",
    "df2 = df.copy()"
   ]
  },
  {
   "cell_type": "code",
   "execution_count": null,
   "id": "b52bc23e-206a-4b7a-af09-48ecb3fc8800",
   "metadata": {},
   "outputs": [],
   "source": [
    "print(tf.__version__)"
   ]
  },
  {
   "cell_type": "code",
   "execution_count": null,
   "id": "16051e35-331c-4c97-938e-a3cdc5ee3046",
   "metadata": {},
   "outputs": [],
   "source": [
    "df2.drop(columns=[\"G_VRH\", \"G_Reuss\", \"G_Voigt\", \"K_VRH\", \"K_Voigt\", \"K_Reuss\",\"composition\",\"formation_energy_per_atom\",\"hardness\"],inplace=True)"
   ]
  },
  {
   "cell_type": "code",
   "execution_count": null,
   "id": "504b9551-d9a3-439d-a7f5-27f73e9b7730",
   "metadata": {},
   "outputs": [],
   "source": [
    "df3 = df2.join(df['G_VRH'])"
   ]
  },
  {
   "cell_type": "code",
   "execution_count": null,
   "id": "93fcb375-df86-4360-9d6b-0ddd10387097",
   "metadata": {},
   "outputs": [],
   "source": [
    "df3"
   ]
  },
  {
   "cell_type": "code",
   "execution_count": null,
   "id": "bcb26fbb-9e92-4d46-be4b-c4ea3b88e3f1",
   "metadata": {},
   "outputs": [],
   "source": [
    "from sklearn.model_selection import train_test_split\n",
    "\n",
    "x = df3.values[:,2:-1] # Select all rows for all columns except for last (index -1)\n",
    "y = df3.values[:,-1] # Select all rows for last column (index -1)\n",
    "\n",
    "print(f'features shape: {x.shape}, target shape: {y.shape}')\n",
    "\n",
    "x_train, x_test, y_train, y_test = train_test_split(x, y, train_size=0.85, test_size=0.15, shuffle=True, random_state=67) \n",
    "\n",
    "print(f'\\nX_train shape: {x_train.shape}, y_train shape: {y_train.shape}\\n',\n",
    "      f'X_test shape: {x_test.shape}, y_test.shape:{y_test.shape}')"
   ]
  },
  {
   "cell_type": "code",
   "execution_count": null,
   "id": "81bdb125-8486-43b9-b0c6-632c64c0ef30",
   "metadata": {},
   "outputs": [],
   "source": [
    "from sklearn.preprocessing import StandardScaler\n",
    "\n",
    "# Normalize input data\n",
    "scaler = StandardScaler()\n",
    "x_train_scaled = scaler.fit_transform(x_train)\n",
    "x_test_scaled = scaler.transform(x_test)"
   ]
  },
  {
   "cell_type": "code",
   "execution_count": null,
   "id": "061eae04-580c-4cba-b136-3957591ff81f",
   "metadata": {},
   "outputs": [],
   "source": [
    "x_train = np.array(x_train_scaled)\n",
    "y_train = np.array(y_train)\n",
    "\n",
    "x_test = np.array(x_test_scaled)\n",
    "y_test = np.array(y_test)"
   ]
  },
  {
   "cell_type": "code",
   "execution_count": null,
   "id": "9b8e878e-24d0-4006-aa0b-76dc0e1d4196",
   "metadata": {},
   "outputs": [],
   "source": [
    "x_train_tensor = tf.convert_to_tensor(x_train, dtype=tf.float64)\n",
    "y_train_tensor = tf.convert_to_tensor(y_train, dtype=tf.float64)\n",
    "\n",
    "x_test_tensor = tf.convert_to_tensor(x_test, dtype=tf.float64)\n",
    "y_test_tensor = tf.convert_to_tensor(y_test, dtype=tf.float64)"
   ]
  },
  {
   "cell_type": "code",
   "execution_count": null,
   "id": "fce07dfd-a972-4484-a667-63ff1120a03a",
   "metadata": {},
   "outputs": [],
   "source": [
    "def reset_random_seeds():  #makes results reproducible\n",
    "    os.environ['PYTHONHASHSEED']=str(2)\n",
    "    tf.random.set_seed(2)\n",
    "    np.random.seed(2)\n",
    "    random.seed(2)\n",
    "\n",
    "reset_random_seeds()\n"
   ]
  },
  {
   "cell_type": "code",
   "execution_count": null,
   "id": "1d10b5f6-8531-4dad-a2a0-7a24243ffb1a",
   "metadata": {},
   "outputs": [],
   "source": [
    "\n",
    "#Find best hyperparmaters\n",
    "\n",
    "from keras.models import Sequential\n",
    "from keras.layers import Dense, BatchNormalization\n",
    "import keras_tuner as kt\n",
    "\n",
    "\n",
    "def build_model(hp):\n",
    "    \n",
    "    reset_random_seeds()\n",
    "    \n",
    "    model = Sequential()\n",
    "\n",
    "    \n",
    "    \n",
    "    hp_layer_1 = hp.Int('layer_1',min_value=101, max_value=241, step=30)\n",
    "    hp_layer_2 = hp.Int('layer_2', min_value=51, max_value=241, step=10)\n",
    "    hp_layer_3 = hp.Int('layer_3', min_value=11, max_value=91, step=10)\n",
    "    learning_rates = hp.Choice(\"learning_rate\", values=[0.001, 0.0015,0.002])\n",
    "    \n",
    "    \n",
    "    model.add(Dense(units=hp_layer_1, activation='relu', input_dim=120))\n",
    "    model.add(BatchNormalization())  # Add BatchNormalization layer\n",
    "    model.add(Dense(units=hp_layer_2, activation='relu'))\n",
    "    model.add(BatchNormalization())  # Add BatchNormalization layer\n",
    "    model.add(Dense(units=hp_layer_3, activation='relu'))\n",
    "    \n",
    "    model.add(Dense(1, activation='linear'))  # Use linear activation for regression\n",
    "\n",
    "   \n",
    "    \n",
    "    model.compile(optimizer=tf.keras.optimizers.Adam(learning_rate=learning_rates),loss='mse',metrics=['mae','R2Score','mse'])  # Use mean squared error for regression loss='mse' metrics=['mae','R2Score']\n",
    "\n",
    "    return model"
   ]
  },
  {
   "cell_type": "code",
   "execution_count": null,
   "id": "39410903-9502-45fe-a33a-2c4e11049ac5",
   "metadata": {},
   "outputs": [],
   "source": [
    "tuner = kt.GridSearch(\n",
    "    build_model,\n",
    "    objective=['mse'],\n",
    "    max_trials=1000,  # Adjust as needed\n",
    "    executions_per_trial=1,\n",
    "    directory='random_search3',\n",
    "    project_name='sheer_modulus_random_search2'\n",
    ")\n",
    "\n",
    "# Perform the random search\n",
    "tuner.search(x=x_train_tensor,\n",
    "             y=y_train_tensor,\n",
    "             epochs=10,\n",
    "             batch_size=32,\n",
    "             validation_split=0.1)\n",
    "\n",
    "# Get the best hyperparameters\n",
    "best_hps = tuner.oracle.get_best_trials(num_trials=1)[0].hyperparameters.values\n",
    "print(f\"Best Hyperparameters: {best_hps}\")"
   ]
  },
  {
   "cell_type": "code",
   "execution_count": null,
   "id": "9c97144c-f4e7-438f-aa1d-fa5f689c1410",
   "metadata": {},
   "outputs": [],
   "source": [
    "model.evaluate(x_test_tensor, y_test_tensor)"
   ]
  },
  {
   "cell_type": "code",
   "execution_count": null,
   "id": "d04112c2-2e46-4f32-b20e-568b4646d708",
   "metadata": {},
   "outputs": [],
   "source": [
    "model = tuner.hypermodel.build(best_hps)"
   ]
  },
  {
   "cell_type": "code",
   "execution_count": null,
   "id": "c73f2114-7a51-4d77-a5e4-482a1a6b3775",
   "metadata": {},
   "outputs": [],
   "source": [
    "import matplotlib.pyplot as plt\n",
    "\n",
    "# Predict the values using the trained model\n",
    "y_pred = model.predict(x_test_tensor)\n",
    "\n",
    "# Plot the actual vs predicted values\n",
    "plt.figure(figsize=(10, 6))\n",
    "plt.scatter(y_pred,y_test, alpha=0.5)\n",
    "plt.title('MLP NN Shear Modulus')\n",
    "plt.xlabel('Actual Values (y_test)')\n",
    "plt.xlim(0,300)\n",
    "plt.ylabel('Predicted Values (y_pred)')\n",
    "plt.grid(True)\n",
    "plt.show()"
   ]
  },
  {
   "cell_type": "code",
   "execution_count": null,
   "id": "864ec646-3f7e-4d01-8cfe-a15a46c6c5c0",
   "metadata": {},
   "outputs": [],
   "source": [
    "from keras.saving import load_model\n",
    "\n",
    "model.save(\"Shear_model.keras\")"
   ]
  }
 ],
 "metadata": {
  "kernelspec": {
   "display_name": "Python 3 (ipykernel)",
   "language": "python",
   "name": "python3"
  },
  "language_info": {
   "codemirror_mode": {
    "name": "ipython",
    "version": 3
   },
   "file_extension": ".py",
   "mimetype": "text/x-python",
   "name": "python",
   "nbconvert_exporter": "python",
   "pygments_lexer": "ipython3",
   "version": "3.10.9"
  }
 },
 "nbformat": 4,
 "nbformat_minor": 5
}
