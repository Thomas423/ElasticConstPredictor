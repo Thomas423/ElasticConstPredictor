{
 "cells": [
  {
   "cell_type": "code",
   "execution_count": null,
   "id": "6114090c-179f-4ba1-9873-9c6bcda88d11",
   "metadata": {},
   "outputs": [],
   "source": [
    "import os\n",
    "\n",
    "import random\n",
    "\n",
    "import pandas as pd\n",
    "import tensorflow as tf\n",
    "import numpy as np\n",
    "df = pd.read_json(\"mp.json\")\n",
    "df2 = df.copy()"
   ]
  },
  {
   "cell_type": "code",
   "execution_count": null,
   "id": "bb721908-b0a3-4c8a-8565-e689d057b4e2",
   "metadata": {},
   "outputs": [],
   "source": [
    "print(tf.__version__)"
   ]
  },
  {
   "cell_type": "code",
   "execution_count": null,
   "id": "2fccde35-5b85-429e-8a7c-825911d025ca",
   "metadata": {},
   "outputs": [],
   "source": [
    "df2.drop(columns=[\"G_VRH\", \"G_Reuss\", \"G_Voigt\", \"K_VRH\", \"K_Voigt\", \"K_Reuss\",\"composition\",\"formation_energy_per_atom\",\"hardness\"],inplace=True)"
   ]
  },
  {
   "cell_type": "code",
   "execution_count": null,
   "id": "9998556f-4595-401e-b565-1c39d62aaf61",
   "metadata": {},
   "outputs": [],
   "source": [
    "df3 = df2.join(df['K_VRH'])"
   ]
  },
  {
   "cell_type": "code",
   "execution_count": null,
   "id": "2a605dca-fea8-41dc-ac80-42fd0af3ca28",
   "metadata": {},
   "outputs": [],
   "source": [
    "df3"
   ]
  },
  {
   "cell_type": "code",
   "execution_count": null,
   "id": "2066b7ab-1cf6-47ad-bf9f-fb60fb13959a",
   "metadata": {},
   "outputs": [],
   "source": [
    "from sklearn.model_selection import train_test_split\n",
    "\n",
    "x = df3.values[:,2:-1] # Select all rows for all columns except for last (index -1)\n",
    "y = df3.values[:,-1] # Select all rows for last column (index -1)\n",
    "\n",
    "print(f'features shape: {x.shape}, target shape: {y.shape}')\n",
    "\n",
    "x_train, x_test, y_train, y_test = train_test_split(x, y, train_size=0.85, test_size=0.15, shuffle=True, random_state=67) \n",
    "\n",
    "print(f'\\nX_train shape: {x_train.shape}, y_train shape: {y_train.shape}\\n',\n",
    "      f'X_test shape: {x_test.shape}, y_test.shape:{y_test.shape}')"
   ]
  },
  {
   "cell_type": "code",
   "execution_count": null,
   "id": "642600be-c4c4-4c94-82f5-21081a7c9c08",
   "metadata": {},
   "outputs": [],
   "source": [
    "from sklearn.preprocessing import StandardScaler\n",
    "\n",
    "# Normalize input data\n",
    "scaler = StandardScaler()\n",
    "x_train_scaled = scaler.fit_transform(x_train)\n",
    "x_test_scaled = scaler.transform(x_test)"
   ]
  },
  {
   "cell_type": "code",
   "execution_count": null,
   "id": "d1c54601-cc3f-40a9-9668-8b2792c4f138",
   "metadata": {},
   "outputs": [],
   "source": [
    "x_train = np.array(x_train_scaled)\n",
    "y_train = np.array(y_train)\n",
    "\n",
    "x_test = np.array(x_test_scaled)\n",
    "y_test = np.array(y_test)"
   ]
  },
  {
   "cell_type": "code",
   "execution_count": null,
   "id": "651eeeb2-a22f-4727-a038-dca4657723b7",
   "metadata": {},
   "outputs": [],
   "source": [
    "x_train_tensor = tf.convert_to_tensor(x_train, dtype=tf.float64)\n",
    "y_train_tensor = tf.convert_to_tensor(y_train, dtype=tf.float64)\n",
    "\n",
    "x_test_tensor = tf.convert_to_tensor(x_test, dtype=tf.float64)\n",
    "y_test_tensor = tf.convert_to_tensor(y_test, dtype=tf.float64)"
   ]
  },
  {
   "cell_type": "code",
   "execution_count": null,
   "id": "9cc80bfd-e22e-49cb-aa40-0bdfb257c6eb",
   "metadata": {},
   "outputs": [],
   "source": [
    "def reset_random_seeds():  #makes results reproducible\n",
    "    os.environ['PYTHONHASHSEED']=str(2)\n",
    "    tf.random.set_seed(2)\n",
    "    np.random.seed(2)\n",
    "    random.seed(2)\n",
    "\n",
    "reset_random_seeds()"
   ]
  },
  {
   "cell_type": "code",
   "execution_count": null,
   "id": "dceb2184-9031-4e22-ace8-b233293d31ba",
   "metadata": {},
   "outputs": [],
   "source": [
    "from keras.models import Sequential\n",
    "from keras.layers import Dense, BatchNormalization\n",
    "import keras_tuner as kt\n",
    "\n",
    "\n",
    "def build_model(hp):\n",
    "    \n",
    "    reset_random_seeds()\n",
    "    \n",
    "    model = Sequential()\n",
    "\n",
    "    \n",
    "    \n",
    "    hp_layer_1 = hp.Int('layer_1',min_value=101, max_value=241, step=10)\n",
    "    hp_layer_2 = hp.Int('layer_2', min_value=51, max_value=241, step=10)\n",
    "    hp_layer_3 = hp.Int('layer_3', min_value=11, max_value=91, step=10)\n",
    "    learning_rates = hp.Choice(\"learning_rate\", values=[0.001,0.0015,0.002])\n",
    "    \n",
    "    \n",
    "    model.add(Dense(units=hp_layer_1, activation='relu', input_dim=120))\n",
    "    model.add(BatchNormalization())  # Add BatchNormalization layer\n",
    "    model.add(Dense(units=hp_layer_2, activation='relu'))\n",
    "    model.add(BatchNormalization())  # Add BatchNormalization layer\n",
    "    model.add(Dense(units=hp_layer_3, activation='relu'))\n",
    "    \n",
    "\n",
    "    model.add(Dense(1, activation='linear'))  # Use linear activation for regression\n",
    "\n",
    "   \n",
    "\n",
    "    model.compile(optimizer=tf.keras.optimizers.Adam(learning_rate=learning_rates),loss='mse',metrics=['mae','R2Score','mse'])  # Use mean squared error for regression loss='mse' metrics=['mae','R2Score']\n",
    "\n",
    "    return model"
   ]
  },
  {
   "cell_type": "code",
   "execution_count": null,
   "id": "2b68f25b-ca72-448c-86c1-585301c9a0f8",
   "metadata": {},
   "outputs": [],
   "source": [
    "tuner = kt.GridSearch(\n",
    "    build_model,\n",
    "    objective=['mse'],\n",
    "    max_trials=1000,  # Adjust as needed\n",
    "    executions_per_trial=1,\n",
    "    directory='random_search3',\n",
    "    project_name='bulk_modulus_random_search'\n",
    ")\n",
    "\n",
    "# Perform the random search\n",
    "tuner.search(x=x_train_tensor,\n",
    "             y=y_train_tensor,\n",
    "             epochs=10,\n",
    "             batch_size=32,\n",
    "             validation_split=0.1)\n",
    "\n",
    "# Get the best hyperparameters\n",
    "best_hps = tuner.oracle.get_best_trials(num_trials=1)[0].hyperparameters.values\n",
    "print(f\"Best Hyperparameters: {best_hps}\")"
   ]
  },
  {
   "cell_type": "code",
   "execution_count": null,
   "id": "ec12d518-c5a7-4515-98df-a9654fdce58d",
   "metadata": {},
   "outputs": [],
   "source": [
    "model.evaluate(x_test_tensor, y_test_tensor)"
   ]
  },
  {
   "cell_type": "code",
   "execution_count": null,
   "id": "9a2b870e-9634-44e4-9ccb-45de4fe9311e",
   "metadata": {},
   "outputs": [],
   "source": [
    "model = tuner.hypermodel.build(best_hps)"
   ]
  },
  {
   "cell_type": "code",
   "execution_count": null,
   "id": "0b7d135e-3a12-49c9-823d-30f452e8e888",
   "metadata": {},
   "outputs": [],
   "source": [
    "import matplotlib.pyplot as plt\n",
    "\n",
    "# Predict the values using the trained model\n",
    "y_pred = model.predict(x_test_tensor)\n",
    "\n",
    "# Plot the actual vs predicted values\n",
    "plt.figure(figsize=(10, 6))\n",
    "plt.scatter(y_pred,y_test, alpha=0.5)\n",
    "plt.title('MLP NN Bulk Modulus')\n",
    "plt.xlabel('Actual Values (y_test)')\n",
    "plt.ylabel('Predicted Values (y_pred)')\n",
    "plt.grid(True)\n",
    "plt.show()"
   ]
  },
  {
   "cell_type": "code",
   "execution_count": null,
   "id": "05a848fd-c592-4829-991b-f8de5af3d948",
   "metadata": {},
   "outputs": [],
   "source": [
    "from keras.saving import load_model\n",
    "\n",
    "model.save(\"Bulk_model.keras\")"
   ]
  }
 ],
 "metadata": {
  "kernelspec": {
   "display_name": "Python 3 (ipykernel)",
   "language": "python",
   "name": "python3"
  },
  "language_info": {
   "codemirror_mode": {
    "name": "ipython",
    "version": 3
   },
   "file_extension": ".py",
   "mimetype": "text/x-python",
   "name": "python",
   "nbconvert_exporter": "python",
   "pygments_lexer": "ipython3",
   "version": "3.10.9"
  }
 },
 "nbformat": 4,
 "nbformat_minor": 5
}
